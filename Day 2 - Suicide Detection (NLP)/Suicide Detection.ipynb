{
 "cells": [
  {
   "cell_type": "markdown",
   "id": "5d27bfd6-b690-49a7-b159-8ce87bbff389",
   "metadata": {},
   "source": [
    "<h2>Dataset Link</h2>"
   ]
  },
  {
   "cell_type": "markdown",
   "id": "996397f2-d881-46cd-84a6-e6c451c13b69",
   "metadata": {},
   "source": [
    "https://www.kaggle.com/datasets/nikhileswarkomati/suicide-watch/data"
   ]
  },
  {
   "cell_type": "markdown",
   "id": "36729e42-4321-4e4e-8b2c-925a371e0bb7",
   "metadata": {},
   "source": [
    "<h2>Data Cleaning</h2>"
   ]
  },
  {
   "cell_type": "code",
   "execution_count": 1,
   "id": "76be2614-cdd9-4a43-b1d9-a8560c47c975",
   "metadata": {},
   "outputs": [],
   "source": [
    "import pandas as pd\n",
    "import numpy as np\n",
    "import re\n",
    "import string\n",
    "import nltk\n",
    "import contractions\n",
    "import demoji\n",
    "from bs4 import BeautifulSoup\n",
    "from nltk.corpus import stopwords\n",
    "from nltk.stem import WordNetLemmatizer\n",
    "from sklearn.feature_extraction.text import TfidfVectorizer\n",
    "import pickle\n",
    "from sklearn.model_selection import train_test_split\n",
    "from sklearn.linear_model import LogisticRegression\n",
    "from sklearn.metrics import classification_report\n",
    "from sklearn.preprocessing import LabelEncoder\n",
    "from tensorflow.keras.preprocessing.text import Tokenizer\n",
    "from tensorflow.keras.preprocessing.sequence import pad_sequences\n",
    "from tensorflow.keras.models import Sequential\n",
    "from tensorflow.keras.layers import Embedding, LSTM, Dense, Dropout\n",
    "import matplotlib.pyplot as plt\n",
    "\n",
    "# Download NLTK resources\n",
    "# nltk.download('stopwords')\n",
    "# nltk.download('punkt')\n",
    "# nltk.download('wordnet')"
   ]
  },
  {
   "cell_type": "code",
   "execution_count": 2,
   "id": "2e57c824-bf24-4e1a-8f85-1517a508359d",
   "metadata": {},
   "outputs": [
    {
     "data": {
      "text/html": [
       "<div>\n",
       "<style scoped>\n",
       "    .dataframe tbody tr th:only-of-type {\n",
       "        vertical-align: middle;\n",
       "    }\n",
       "\n",
       "    .dataframe tbody tr th {\n",
       "        vertical-align: top;\n",
       "    }\n",
       "\n",
       "    .dataframe thead th {\n",
       "        text-align: right;\n",
       "    }\n",
       "</style>\n",
       "<table border=\"1\" class=\"dataframe\">\n",
       "  <thead>\n",
       "    <tr style=\"text-align: right;\">\n",
       "      <th></th>\n",
       "      <th>Unnamed: 0</th>\n",
       "      <th>text</th>\n",
       "      <th>class</th>\n",
       "    </tr>\n",
       "  </thead>\n",
       "  <tbody>\n",
       "    <tr>\n",
       "      <th>0</th>\n",
       "      <td>2</td>\n",
       "      <td>Ex Wife Threatening SuicideRecently I left my ...</td>\n",
       "      <td>suicide</td>\n",
       "    </tr>\n",
       "    <tr>\n",
       "      <th>1</th>\n",
       "      <td>3</td>\n",
       "      <td>Am I weird I don't get affected by compliments...</td>\n",
       "      <td>non-suicide</td>\n",
       "    </tr>\n",
       "    <tr>\n",
       "      <th>2</th>\n",
       "      <td>4</td>\n",
       "      <td>Finally 2020 is almost over... So I can never ...</td>\n",
       "      <td>non-suicide</td>\n",
       "    </tr>\n",
       "    <tr>\n",
       "      <th>3</th>\n",
       "      <td>8</td>\n",
       "      <td>i need helpjust help me im crying so hard</td>\n",
       "      <td>suicide</td>\n",
       "    </tr>\n",
       "    <tr>\n",
       "      <th>4</th>\n",
       "      <td>9</td>\n",
       "      <td>I’m so lostHello, my name is Adam (16) and I’v...</td>\n",
       "      <td>suicide</td>\n",
       "    </tr>\n",
       "  </tbody>\n",
       "</table>\n",
       "</div>"
      ],
      "text/plain": [
       "   Unnamed: 0                                               text        class\n",
       "0           2  Ex Wife Threatening SuicideRecently I left my ...      suicide\n",
       "1           3  Am I weird I don't get affected by compliments...  non-suicide\n",
       "2           4  Finally 2020 is almost over... So I can never ...  non-suicide\n",
       "3           8          i need helpjust help me im crying so hard      suicide\n",
       "4           9  I’m so lostHello, my name is Adam (16) and I’v...      suicide"
      ]
     },
     "execution_count": 2,
     "metadata": {},
     "output_type": "execute_result"
    }
   ],
   "source": [
    "df = pd.read_csv('Dataset/Suicide_Detection.csv')\n",
    "df.head()"
   ]
  },
  {
   "cell_type": "code",
   "execution_count": 3,
   "id": "a1379e42-2dc7-4306-8212-7dabe46666fc",
   "metadata": {},
   "outputs": [
    {
     "data": {
      "text/html": [
       "<div>\n",
       "<style scoped>\n",
       "    .dataframe tbody tr th:only-of-type {\n",
       "        vertical-align: middle;\n",
       "    }\n",
       "\n",
       "    .dataframe tbody tr th {\n",
       "        vertical-align: top;\n",
       "    }\n",
       "\n",
       "    .dataframe thead th {\n",
       "        text-align: right;\n",
       "    }\n",
       "</style>\n",
       "<table border=\"1\" class=\"dataframe\">\n",
       "  <thead>\n",
       "    <tr style=\"text-align: right;\">\n",
       "      <th></th>\n",
       "      <th>Unnamed: 0</th>\n",
       "      <th>text</th>\n",
       "      <th>class</th>\n",
       "    </tr>\n",
       "  </thead>\n",
       "  <tbody>\n",
       "    <tr>\n",
       "      <th>232069</th>\n",
       "      <td>348103</td>\n",
       "      <td>If you don't like rock then your not going to ...</td>\n",
       "      <td>non-suicide</td>\n",
       "    </tr>\n",
       "    <tr>\n",
       "      <th>232070</th>\n",
       "      <td>348106</td>\n",
       "      <td>You how you can tell i have so many friends an...</td>\n",
       "      <td>non-suicide</td>\n",
       "    </tr>\n",
       "    <tr>\n",
       "      <th>232071</th>\n",
       "      <td>348107</td>\n",
       "      <td>pee probably tastes like salty tea😏💦‼️ can som...</td>\n",
       "      <td>non-suicide</td>\n",
       "    </tr>\n",
       "    <tr>\n",
       "      <th>232072</th>\n",
       "      <td>348108</td>\n",
       "      <td>The usual stuff you find hereI'm not posting t...</td>\n",
       "      <td>suicide</td>\n",
       "    </tr>\n",
       "    <tr>\n",
       "      <th>232073</th>\n",
       "      <td>348110</td>\n",
       "      <td>I still haven't beaten the first boss in Hollo...</td>\n",
       "      <td>non-suicide</td>\n",
       "    </tr>\n",
       "  </tbody>\n",
       "</table>\n",
       "</div>"
      ],
      "text/plain": [
       "        Unnamed: 0                                               text  \\\n",
       "232069      348103  If you don't like rock then your not going to ...   \n",
       "232070      348106  You how you can tell i have so many friends an...   \n",
       "232071      348107  pee probably tastes like salty tea😏💦‼️ can som...   \n",
       "232072      348108  The usual stuff you find hereI'm not posting t...   \n",
       "232073      348110  I still haven't beaten the first boss in Hollo...   \n",
       "\n",
       "              class  \n",
       "232069  non-suicide  \n",
       "232070  non-suicide  \n",
       "232071  non-suicide  \n",
       "232072      suicide  \n",
       "232073  non-suicide  "
      ]
     },
     "execution_count": 3,
     "metadata": {},
     "output_type": "execute_result"
    }
   ],
   "source": [
    "df.tail()"
   ]
  },
  {
   "cell_type": "code",
   "execution_count": 4,
   "id": "4e93e080-81de-4b28-9f8f-a1a7ed9171c5",
   "metadata": {},
   "outputs": [
    {
     "data": {
      "text/plain": [
       "class\n",
       "non-suicide    5085\n",
       "suicide        4915\n",
       "Name: count, dtype: int64"
      ]
     },
     "execution_count": 4,
     "metadata": {},
     "output_type": "execute_result"
    }
   ],
   "source": [
    "df = df[['text', 'class']]\n",
    "df = df[:10000] # limit to 10,000 dataset\n",
    "df['class'].value_counts()"
   ]
  },
  {
   "cell_type": "code",
   "execution_count": 5,
   "id": "b0d46658-a7bc-4f47-b004-385544fc281a",
   "metadata": {},
   "outputs": [
    {
     "data": {
      "text/plain": [
       "0"
      ]
     },
     "execution_count": 5,
     "metadata": {},
     "output_type": "execute_result"
    }
   ],
   "source": [
    "df.duplicated().sum()"
   ]
  },
  {
   "cell_type": "code",
   "execution_count": 6,
   "id": "ab5e91a9-3253-4ccc-a99d-6620ff69802c",
   "metadata": {},
   "outputs": [
    {
     "data": {
      "text/plain": [
       "text     0\n",
       "class    0\n",
       "dtype: int64"
      ]
     },
     "execution_count": 6,
     "metadata": {},
     "output_type": "execute_result"
    }
   ],
   "source": [
    "df.isna().sum()"
   ]
  },
  {
   "cell_type": "code",
   "execution_count": 7,
   "id": "fd364259-5053-46c6-92ea-e18b765606af",
   "metadata": {},
   "outputs": [
    {
     "data": {
      "text/plain": [
       "\"Ex Wife Threatening SuicideRecently I left my wife for good because she has cheated on me twice and lied to me so much that I have decided to refuse to go back to her. As of a few days ago, she began threatening suicide. I have tirelessly spent these paat few days talking her out of it and she keeps hesitating because she wants to believe I'll come back. I know a lot of people will threaten this in order to get their way, but what happens if she really does? What do I do and how am I supposed to handle her death on my hands? I still love my wife but I cannot deal with getting cheated on again and constantly feeling insecure. I'm worried today may be the day she does it and I hope so much it doesn't happen.\""
      ]
     },
     "execution_count": 7,
     "metadata": {},
     "output_type": "execute_result"
    }
   ],
   "source": [
    "df['text'][0]"
   ]
  },
  {
   "cell_type": "code",
   "execution_count": 8,
   "id": "44bf5743-d69f-4e38-a913-a4775de4d85e",
   "metadata": {},
   "outputs": [
    {
     "data": {
      "text/plain": [
       "'Feeling really angry can someone talk?I would appreciate it if I may vent my heart..'"
      ]
     },
     "execution_count": 8,
     "metadata": {},
     "output_type": "execute_result"
    }
   ],
   "source": [
    "df['text'][150]"
   ]
  },
  {
   "cell_type": "code",
   "execution_count": 9,
   "id": "0aa14c28-a1ca-46db-950b-481b77084ff8",
   "metadata": {},
   "outputs": [
    {
     "data": {
      "text/plain": [
       "'I’m in a hole that’s to deepI owe someone money and I know they are going to sue me because they are from a wealthy family.... I will lose everything, I don’t wanna be here anymore and my stupidity is the reason for it. It’s my ex girlfriend btw.... I never thought she would be this cold.'"
      ]
     },
     "execution_count": 9,
     "metadata": {},
     "output_type": "execute_result"
    }
   ],
   "source": [
    "df['text'][1880]"
   ]
  },
  {
   "cell_type": "code",
   "execution_count": 10,
   "id": "567345fb-9a43-49b7-9836-c0ec3687c899",
   "metadata": {},
   "outputs": [
    {
     "data": {
      "text/html": [
       "<div>\n",
       "<style scoped>\n",
       "    .dataframe tbody tr th:only-of-type {\n",
       "        vertical-align: middle;\n",
       "    }\n",
       "\n",
       "    .dataframe tbody tr th {\n",
       "        vertical-align: top;\n",
       "    }\n",
       "\n",
       "    .dataframe thead th {\n",
       "        text-align: right;\n",
       "    }\n",
       "</style>\n",
       "<table border=\"1\" class=\"dataframe\">\n",
       "  <thead>\n",
       "    <tr style=\"text-align: right;\">\n",
       "      <th></th>\n",
       "      <th>text</th>\n",
       "      <th>class</th>\n",
       "    </tr>\n",
       "  </thead>\n",
       "  <tbody>\n",
       "    <tr>\n",
       "      <th>0</th>\n",
       "      <td>ex wife threatening suiciderecently left wife ...</td>\n",
       "      <td>suicide</td>\n",
       "    </tr>\n",
       "    <tr>\n",
       "      <th>1</th>\n",
       "      <td>weird get affected compliment coming someone k...</td>\n",
       "      <td>non-suicide</td>\n",
       "    </tr>\n",
       "    <tr>\n",
       "      <th>2</th>\n",
       "      <td>finally almost never hear bad year ever swear ...</td>\n",
       "      <td>non-suicide</td>\n",
       "    </tr>\n",
       "    <tr>\n",
       "      <th>3</th>\n",
       "      <td>need helpjust help cry hard</td>\n",
       "      <td>suicide</td>\n",
       "    </tr>\n",
       "    <tr>\n",
       "      <th>4</th>\n",
       "      <td>losthello name adam struggling year afraid pas...</td>\n",
       "      <td>suicide</td>\n",
       "    </tr>\n",
       "  </tbody>\n",
       "</table>\n",
       "</div>"
      ],
      "text/plain": [
       "                                                text        class\n",
       "0  ex wife threatening suiciderecently left wife ...      suicide\n",
       "1  weird get affected compliment coming someone k...  non-suicide\n",
       "2  finally almost never hear bad year ever swear ...  non-suicide\n",
       "3                        need helpjust help cry hard      suicide\n",
       "4  losthello name adam struggling year afraid pas...      suicide"
      ]
     },
     "execution_count": 10,
     "metadata": {},
     "output_type": "execute_result"
    }
   ],
   "source": [
    "lemmatizer = WordNetLemmatizer()\n",
    "stop_words = set(stopwords.words('english'))\n",
    "\n",
    "def preprocess_text(text):\n",
    "    text = text.lower() # Lowercase\n",
    "    text = demoji.replace_with_desc(text) # # Convert emojis to text\n",
    "    text = contractions.fix(text) # Expand contractions\n",
    "    text = re.sub(r'[^a-zA-Z\\s]', '', text) # Remove special characters and symbols\n",
    "    text = re.sub(r'\\d+', '', text) # Remove digits\n",
    "    text = BeautifulSoup(text, \"html.parser\").get_text() # Remove HTML tags\n",
    "    text = re.sub(r'\\b[a-zA-Z]\\b', '', text) # Remove single letters\n",
    "    text = re.sub(r'\\s+', ' ', text).strip() # Remove extra whitespace\n",
    "    \n",
    "    # Tokenize\n",
    "    tokens = nltk.word_tokenize(text)\n",
    "    \n",
    "    # Remove stopwords and lemmatize\n",
    "    cleaned_tokens = [\n",
    "        lemmatizer.lemmatize(token)\n",
    "        for token in tokens\n",
    "        if token not in stop_words\n",
    "    ]\n",
    "    \n",
    "    # Rejoin tokens back --> string\n",
    "    cleaned_text = ' '.join(cleaned_tokens)\n",
    "    \n",
    "    return cleaned_text\n",
    "\n",
    "\n",
    "df['text'] = df['text'].apply(preprocess_text)\n",
    "df.head()"
   ]
  },
  {
   "cell_type": "code",
   "execution_count": 11,
   "id": "90848618-d140-4fb2-9a00-1700ceb8c9c8",
   "metadata": {},
   "outputs": [],
   "source": [
    "# Saved the cleaned dataset.\n",
    "df.to_csv('Dataset/cleaned_df.csv')"
   ]
  },
  {
   "cell_type": "code",
   "execution_count": 12,
   "id": "6eacdcae-a8cf-4112-aff1-936ca7dac330",
   "metadata": {},
   "outputs": [
    {
     "data": {
      "text/html": [
       "<div>\n",
       "<style scoped>\n",
       "    .dataframe tbody tr th:only-of-type {\n",
       "        vertical-align: middle;\n",
       "    }\n",
       "\n",
       "    .dataframe tbody tr th {\n",
       "        vertical-align: top;\n",
       "    }\n",
       "\n",
       "    .dataframe thead th {\n",
       "        text-align: right;\n",
       "    }\n",
       "</style>\n",
       "<table border=\"1\" class=\"dataframe\">\n",
       "  <thead>\n",
       "    <tr style=\"text-align: right;\">\n",
       "      <th></th>\n",
       "      <th>Unnamed: 0</th>\n",
       "      <th>text</th>\n",
       "      <th>class</th>\n",
       "    </tr>\n",
       "  </thead>\n",
       "  <tbody>\n",
       "    <tr>\n",
       "      <th>0</th>\n",
       "      <td>0</td>\n",
       "      <td>ex wife threatening suiciderecently left wife ...</td>\n",
       "      <td>suicide</td>\n",
       "    </tr>\n",
       "    <tr>\n",
       "      <th>1</th>\n",
       "      <td>1</td>\n",
       "      <td>weird get affected compliment coming someone k...</td>\n",
       "      <td>non-suicide</td>\n",
       "    </tr>\n",
       "    <tr>\n",
       "      <th>2</th>\n",
       "      <td>2</td>\n",
       "      <td>finally almost never hear bad year ever swear ...</td>\n",
       "      <td>non-suicide</td>\n",
       "    </tr>\n",
       "    <tr>\n",
       "      <th>3</th>\n",
       "      <td>3</td>\n",
       "      <td>need helpjust help cry hard</td>\n",
       "      <td>suicide</td>\n",
       "    </tr>\n",
       "    <tr>\n",
       "      <th>4</th>\n",
       "      <td>4</td>\n",
       "      <td>losthello name adam struggling year afraid pas...</td>\n",
       "      <td>suicide</td>\n",
       "    </tr>\n",
       "  </tbody>\n",
       "</table>\n",
       "</div>"
      ],
      "text/plain": [
       "   Unnamed: 0                                               text        class\n",
       "0           0  ex wife threatening suiciderecently left wife ...      suicide\n",
       "1           1  weird get affected compliment coming someone k...  non-suicide\n",
       "2           2  finally almost never hear bad year ever swear ...  non-suicide\n",
       "3           3                        need helpjust help cry hard      suicide\n",
       "4           4  losthello name adam struggling year afraid pas...      suicide"
      ]
     },
     "execution_count": 12,
     "metadata": {},
     "output_type": "execute_result"
    }
   ],
   "source": [
    "cleaned_df = pd.read_csv('Dataset/cleaned_df.csv')\n",
    "cleaned_df.head()"
   ]
  },
  {
   "cell_type": "code",
   "execution_count": 13,
   "id": "43779dca-4732-4023-9bca-fec50cadfdf1",
   "metadata": {},
   "outputs": [
    {
     "data": {
      "text/plain": [
       "Unnamed: 0    0\n",
       "text          6\n",
       "class         0\n",
       "dtype: int64"
      ]
     },
     "execution_count": 13,
     "metadata": {},
     "output_type": "execute_result"
    }
   ],
   "source": [
    "cleaned_df.isna().sum()"
   ]
  },
  {
   "cell_type": "code",
   "execution_count": 14,
   "id": "183f90d1-55ca-4334-b374-f8c75325383f",
   "metadata": {},
   "outputs": [
    {
     "data": {
      "text/html": [
       "<div>\n",
       "<style scoped>\n",
       "    .dataframe tbody tr th:only-of-type {\n",
       "        vertical-align: middle;\n",
       "    }\n",
       "\n",
       "    .dataframe tbody tr th {\n",
       "        vertical-align: top;\n",
       "    }\n",
       "\n",
       "    .dataframe thead th {\n",
       "        text-align: right;\n",
       "    }\n",
       "</style>\n",
       "<table border=\"1\" class=\"dataframe\">\n",
       "  <thead>\n",
       "    <tr style=\"text-align: right;\">\n",
       "      <th></th>\n",
       "      <th>Unnamed: 0</th>\n",
       "      <th>text</th>\n",
       "      <th>class</th>\n",
       "    </tr>\n",
       "  </thead>\n",
       "  <tbody>\n",
       "    <tr>\n",
       "      <th>408</th>\n",
       "      <td>408</td>\n",
       "      <td>NaN</td>\n",
       "      <td>non-suicide</td>\n",
       "    </tr>\n",
       "    <tr>\n",
       "      <th>3708</th>\n",
       "      <td>3708</td>\n",
       "      <td>NaN</td>\n",
       "      <td>non-suicide</td>\n",
       "    </tr>\n",
       "    <tr>\n",
       "      <th>3946</th>\n",
       "      <td>3946</td>\n",
       "      <td>NaN</td>\n",
       "      <td>non-suicide</td>\n",
       "    </tr>\n",
       "    <tr>\n",
       "      <th>5577</th>\n",
       "      <td>5577</td>\n",
       "      <td>NaN</td>\n",
       "      <td>non-suicide</td>\n",
       "    </tr>\n",
       "    <tr>\n",
       "      <th>8231</th>\n",
       "      <td>8231</td>\n",
       "      <td>NaN</td>\n",
       "      <td>non-suicide</td>\n",
       "    </tr>\n",
       "    <tr>\n",
       "      <th>9592</th>\n",
       "      <td>9592</td>\n",
       "      <td>NaN</td>\n",
       "      <td>non-suicide</td>\n",
       "    </tr>\n",
       "  </tbody>\n",
       "</table>\n",
       "</div>"
      ],
      "text/plain": [
       "      Unnamed: 0 text        class\n",
       "408          408  NaN  non-suicide\n",
       "3708        3708  NaN  non-suicide\n",
       "3946        3946  NaN  non-suicide\n",
       "5577        5577  NaN  non-suicide\n",
       "8231        8231  NaN  non-suicide\n",
       "9592        9592  NaN  non-suicide"
      ]
     },
     "execution_count": 14,
     "metadata": {},
     "output_type": "execute_result"
    }
   ],
   "source": [
    "cleaned_df[cleaned_df['text'].isna()]"
   ]
  },
  {
   "cell_type": "code",
   "execution_count": 15,
   "id": "b6d7d6cf-c8d8-4712-9e21-de2895f34191",
   "metadata": {},
   "outputs": [],
   "source": [
    "cleaned_df.dropna(inplace=True)"
   ]
  },
  {
   "cell_type": "code",
   "execution_count": 16,
   "id": "bd248e4d-314e-47cb-8b03-621021a45d5f",
   "metadata": {},
   "outputs": [],
   "source": [
    "x = cleaned_df['text']\n",
    "y = cleaned_df['class']"
   ]
  },
  {
   "cell_type": "code",
   "execution_count": 17,
   "id": "b4e4fa92-414a-4eb9-9a4f-11fa69c40620",
   "metadata": {},
   "outputs": [],
   "source": [
    "vectorizer = TfidfVectorizer(min_df=50,max_features=5000)\n",
    "x =  vectorizer.fit_transform(x).toarray()"
   ]
  },
  {
   "cell_type": "code",
   "execution_count": 18,
   "id": "73950771-0cd9-4c58-8202-1a9bdec3cea5",
   "metadata": {},
   "outputs": [],
   "source": [
    "# Save the vectorizer\n",
    "with open('tfidf.pkl', 'wb') as f:\n",
    "    pickle.dump(vectorizer, f)  "
   ]
  },
  {
   "cell_type": "markdown",
   "id": "ec82fd26-2ffa-4b20-9dce-7a8a915584a2",
   "metadata": {},
   "source": [
    "<h2>Machine Learning</h2>"
   ]
  },
  {
   "cell_type": "code",
   "execution_count": 19,
   "id": "14048c31-caff-4d4f-9b02-635b3f616bcf",
   "metadata": {},
   "outputs": [],
   "source": [
    "X_train,X_test,y_train,y_test = train_test_split(x,y,test_size=0.2,random_state=42)"
   ]
  },
  {
   "cell_type": "code",
   "execution_count": 20,
   "id": "8967e329-db0e-4a95-bb53-7cf4affa5569",
   "metadata": {},
   "outputs": [
    {
     "name": "stdout",
     "output_type": "stream",
     "text": [
      "Training score: 0.9203252032520325\n",
      "Testing score: 0.8989494747373686\n"
     ]
    }
   ],
   "source": [
    "ML_model = LogisticRegression(random_state=42)\n",
    "ML_model.fit(X_train, y_train)\n",
    "print('Training score:',ML_model.score(X_train, y_train))\n",
    "print('Testing score:',ML_model.score(X_test,y_test))"
   ]
  },
  {
   "cell_type": "code",
   "execution_count": 21,
   "id": "870a9bce-7ac5-4c12-88d6-7f4cc8d3ce0a",
   "metadata": {},
   "outputs": [
    {
     "name": "stdout",
     "output_type": "stream",
     "text": [
      "              precision    recall  f1-score   support\n",
      "\n",
      " non-suicide       0.89      0.91      0.90       998\n",
      "     suicide       0.91      0.89      0.90      1001\n",
      "\n",
      "    accuracy                           0.90      1999\n",
      "   macro avg       0.90      0.90      0.90      1999\n",
      "weighted avg       0.90      0.90      0.90      1999\n",
      "\n"
     ]
    }
   ],
   "source": [
    "y_pred = ML_model.predict(X_test)\n",
    "print(classification_report(y_test,y_pred))"
   ]
  },
  {
   "cell_type": "code",
   "execution_count": 22,
   "id": "c49693c7-fbba-4393-b09f-5cbe8807230a",
   "metadata": {},
   "outputs": [],
   "source": [
    "# Save ML_model\n",
    "with open('ML_model.pkl', 'wb') as f:\n",
    "    pickle.dump(ML_model, f)"
   ]
  },
  {
   "cell_type": "markdown",
   "id": "4b8f6bf1-ae80-4e44-9f62-6258adaf50a1",
   "metadata": {},
   "source": [
    "<h2>Deep Learning</h2>"
   ]
  },
  {
   "cell_type": "code",
   "execution_count": 23,
   "id": "9e8da6c8-cc8d-4f43-8b4a-83d15f2a08f6",
   "metadata": {},
   "outputs": [],
   "source": [
    "x = cleaned_df['text'].values\n",
    "y = cleaned_df['class'].values"
   ]
  },
  {
   "cell_type": "code",
   "execution_count": 24,
   "id": "b7e4ca3d-ab37-4376-a9c5-287e5cc102c8",
   "metadata": {},
   "outputs": [],
   "source": [
    "le = LabelEncoder()\n",
    "y = le.fit_transform(y)"
   ]
  },
  {
   "cell_type": "code",
   "execution_count": 25,
   "id": "4263def4-8939-433e-8269-67c58b8fb2b4",
   "metadata": {},
   "outputs": [
    {
     "name": "stdout",
     "output_type": "stream",
     "text": [
      "{'non-suicide': 0, 'suicide': 1}\n"
     ]
    }
   ],
   "source": [
    "label_mapping = dict(zip(le.classes_, range(len(le.classes_))))\n",
    "print(label_mapping)"
   ]
  },
  {
   "cell_type": "code",
   "execution_count": 26,
   "id": "3cf87ac5-97c2-489d-92a0-e430f0131459",
   "metadata": {},
   "outputs": [],
   "source": [
    "tokenizer = Tokenizer(num_words=5000, oov_token=\"<OOV>\")\n",
    "tokenizer.fit_on_texts(cleaned_df['text'])\n",
    "sequences = tokenizer.texts_to_sequences(cleaned_df['text'])\n",
    "padded = pad_sequences(sequences, maxlen=100)\n",
    "\n",
    "X_train,X_test,y_train,y_test = train_test_split(padded,y,test_size=0.2,random_state=42)"
   ]
  },
  {
   "cell_type": "code",
   "execution_count": 27,
   "id": "b12c8413-8ff4-4267-a7b7-d6eb01d34c5b",
   "metadata": {},
   "outputs": [
    {
     "name": "stdout",
     "output_type": "stream",
     "text": [
      "Epoch 1/3\n",
      "\u001b[1m250/250\u001b[0m \u001b[32m━━━━━━━━━━━━━━━━━━━━\u001b[0m\u001b[37m\u001b[0m \u001b[1m69s\u001b[0m 198ms/step - accuracy: 0.7963 - loss: 0.4563 - val_accuracy: 0.9015 - val_loss: 0.2581\n",
      "Epoch 2/3\n",
      "\u001b[1m250/250\u001b[0m \u001b[32m━━━━━━━━━━━━━━━━━━━━\u001b[0m\u001b[37m\u001b[0m \u001b[1m47s\u001b[0m 188ms/step - accuracy: 0.9245 - loss: 0.2021 - val_accuracy: 0.9040 - val_loss: 0.2467\n",
      "Epoch 3/3\n",
      "\u001b[1m250/250\u001b[0m \u001b[32m━━━━━━━━━━━━━━━━━━━━\u001b[0m\u001b[37m\u001b[0m \u001b[1m55s\u001b[0m 218ms/step - accuracy: 0.9530 - loss: 0.1412 - val_accuracy: 0.9065 - val_loss: 0.2670\n"
     ]
    }
   ],
   "source": [
    "DL_model = Sequential()\n",
    "DL_model.add(Embedding(input_dim=5000, output_dim=100))\n",
    "DL_model.add(LSTM(128))\n",
    "DL_model.add(Dropout(0.3))\n",
    "DL_model.add(Dense(1, activation='sigmoid'))\n",
    "\n",
    "DL_model.compile(loss='binary_crossentropy', optimizer='adam', metrics=['accuracy'])\n",
    "history = DL_model.fit(X_train, y_train, epochs=3, batch_size=32, validation_data=(X_test, y_test))"
   ]
  },
  {
   "cell_type": "code",
   "execution_count": 28,
   "id": "be29ad75-08a9-43c6-9dbb-06074960812e",
   "metadata": {},
   "outputs": [
    {
     "data": {
      "image/png": "[encoded data removed]",
      "text/plain": [
       "<Figure size 1000x500 with 2 Axes>"
      ]
     },
     "metadata": {},
     "output_type": "display_data"
    }
   ],
   "source": [
    "# learning curve\n",
    "acc = history.history['accuracy']\n",
    "val_acc = history.history['val_accuracy']\n",
    "loss = history.history['loss']\n",
    "val_loss = history.history['val_loss']\n",
    "\n",
    "epochs = range(1, len(acc) + 1)\n",
    "# creating subplots\n",
    "fig, axes = plt.subplots(1, 2, figsize=(10, 5))\n",
    "axes[0].plot(epochs, acc, 'b', label='Train Accuracy')\n",
    "axes[0].plot(epochs, val_acc, 'r', label='Test Accuracy')\n",
    "axes[0].set_xlabel('Epoch')\n",
    "axes[0].set_ylabel('Accuracy')\n",
    "axes[0].legend()\n",
    "\n",
    "axes[1].plot(epochs, loss, 'b', label='Train Loss')\n",
    "axes[1].plot(epochs, val_loss, 'r', label='Test Loss')\n",
    "axes[1].set_xlabel('Epoch')\n",
    "axes[1].set_ylabel('Loss')\n",
    "axes[1].legend()\n",
    "\n",
    "# adusting layout for better spacing\n",
    "plt.tight_layout()\n",
    "\n",
    "# display the figure\n",
    "plt.show();"
   ]
  },
  {
   "cell_type": "code",
   "execution_count": 29,
   "id": "983d4dcf-1236-4496-824c-a6fd5d6c29ee",
   "metadata": {},
   "outputs": [
    {
     "name": "stdout",
     "output_type": "stream",
     "text": [
      "\u001b[1m63/63\u001b[0m \u001b[32m━━━━━━━━━━━━━━━━━━━━\u001b[0m\u001b[37m\u001b[0m \u001b[1m8s\u001b[0m 102ms/step\n",
      "              precision    recall  f1-score   support\n",
      "\n",
      "           0       0.91      0.90      0.91       998\n",
      "           1       0.90      0.91      0.91      1001\n",
      "\n",
      "    accuracy                           0.91      1999\n",
      "   macro avg       0.91      0.91      0.91      1999\n",
      "weighted avg       0.91      0.91      0.91      1999\n",
      "\n"
     ]
    }
   ],
   "source": [
    "pred = DL_model.predict(X_test)\n",
    "y_pred = (pred>0.5)\n",
    "\n",
    "cr = classification_report(y_test, y_pred)\n",
    "print(cr)"
   ]
  },
  {
   "cell_type": "markdown",
   "id": "037da78b-5b9d-41eb-aa25-6745962ff427",
   "metadata": {},
   "source": [
    "<h2>Machine Learning vs Deep Learning</h2>"
   ]
  },
  {
   "cell_type": "code",
   "execution_count": 30,
   "id": "8fce9f20-5753-4b8b-b9cd-234f9e0f8946",
   "metadata": {},
   "outputs": [
    {
     "name": "stdout",
     "output_type": "stream",
     "text": [
      "ML Predicted class: suicide\n",
      "\u001b[1m1/1\u001b[0m \u001b[32m━━━━━━━━━━━━━━━━━━━━\u001b[0m\u001b[37m\u001b[0m \u001b[1m0s\u001b[0m 192ms/step\n",
      "DL Predicted class: suicide\n"
     ]
    }
   ],
   "source": [
    "# Machine Learning\n",
    "with open('tfidf.pkl', 'rb') as f:\n",
    "    vectorizer = pickle.load(f)\n",
    "with open('ML_model.pkl', 'rb') as f:\n",
    "    ML_model = pickle.load(f)\n",
    "\n",
    "text_input = \"I want to die\"\n",
    "cleaned_text = preprocess_text(text_input)\n",
    "vectorized = vectorizer.transform([cleaned_text])\n",
    "ML_prediction = ML_model.predict(vectorized)\n",
    "print(\"ML Predicted class:\", ML_prediction[0])\n",
    "\n",
    "#Deep Learning\n",
    "def DL_predict_text(text):\n",
    "    seq = tokenizer.texts_to_sequences([text])\n",
    "    pad = pad_sequences(seq, maxlen=100)\n",
    "    pred = DL_model.predict(pad)\n",
    "    pred_class = 1 if pred >= 0.5 else 0\n",
    "    return le.inverse_transform([pred_class])[0]\n",
    "\n",
    "print(\"DL Predicted class:\", DL_predict_text(text_input))"
   ]
  }
 ],
 "metadata": {
  "kernelspec": {
   "display_name": "Python 3 (ipykernel)",
   "language": "python",
   "name": "python3"
  },
  "language_info": {
   "codemirror_mode": {
    "name": "ipython",
    "version": 3
   },
   "file_extension": ".py",
   "mimetype": "text/x-python",
   "name": "python",
   "nbconvert_exporter": "python",
   "pygments_lexer": "ipython3",
   "version": "3.11.7"
  }
 },
 "nbformat": 4,
 "nbformat_minor": 5
}
