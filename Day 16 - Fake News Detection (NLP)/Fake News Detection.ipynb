{
 "cells": [
  {
   "cell_type": "markdown",
   "id": "8fce3704-759b-4f37-9ef1-d9cbe6020851",
   "metadata": {},
   "source": [
    "<h2>Dataset Link</h2>"
   ]
  },
  {
   "cell_type": "markdown",
   "id": "468811cf-3bad-453e-af8d-cf6db71bfeca",
   "metadata": {},
   "source": [
    "https://www.kaggle.com/datasets/mahdimashayekhi/fake-news-detection-dataset/data"
   ]
  },
  {
   "cell_type": "raw",
   "id": "b7fd108a-9ff4-4af4-b6c5-4c95d20f15b1",
   "metadata": {},
   "source": [
    "title: The headline or short title of the article.\n",
    "text: The main body of the news article, written in medium-length text (~200-300 words).\n",
    "date: The publication date of the article.\n",
    "source: The media organization that published the article (may contain missing values).\n",
    "author: The name of the author who wrote the article (may contain missing values).\n",
    "category: The category to which the article belongs (Politics, Technology, Health, Sports, etc.).\n",
    "label: The target classification, either real or fake."
   ]
  },
  {
   "cell_type": "markdown",
   "id": "77863eb3-0c8d-482d-a6f0-4493cafa2cde",
   "metadata": {},
   "source": [
    "<h2>Data Preprocessing</h2>"
   ]
  },
  {
   "cell_type": "code",
   "execution_count": 4,
   "id": "db53b7d1-2bae-4ce4-af28-cdaabac41f68",
   "metadata": {},
   "outputs": [
    {
     "name": "stderr",
     "output_type": "stream",
     "text": [
      "[nltk_data] Downloading package stopwords to\n",
      "[nltk_data]     C:\\Users\\WT\\AppData\\Roaming\\nltk_data...\n",
      "[nltk_data]   Package stopwords is already up-to-date!\n",
      "[nltk_data] Downloading package punkt to\n",
      "[nltk_data]     C:\\Users\\WT\\AppData\\Roaming\\nltk_data...\n",
      "[nltk_data]   Package punkt is already up-to-date!\n",
      "[nltk_data] Downloading package wordnet to\n",
      "[nltk_data]     C:\\Users\\WT\\AppData\\Roaming\\nltk_data...\n",
      "[nltk_data]   Package wordnet is already up-to-date!\n"
     ]
    }
   ],
   "source": [
    "import pandas as pd\n",
    "import numpy as np\n",
    "from wordcloud import WordCloud\n",
    "import matplotlib.pyplot as plt\n",
    "import re\n",
    "import string\n",
    "import nltk\n",
    "from nltk.corpus import stopwords\n",
    "from nltk.stem import WordNetLemmatizer\n",
    "from sklearn.feature_extraction.text import TfidfVectorizer\n",
    "import pickle\n",
    "from sklearn.model_selection import train_test_split\n",
    "from sklearn.preprocessing import LabelEncoder\n",
    "from scipy.sparse import hstack\n",
    "from sklearn.naive_bayes import MultinomialNB\n",
    "from sklearn.metrics import classification_report, accuracy_score\n",
    "from tensorflow.keras.preprocessing.text import Tokenizer\n",
    "from tensorflow.keras.preprocessing.sequence import pad_sequences\n",
    "from tensorflow.keras.models import Sequential\n",
    "from tensorflow.keras.layers import Embedding, LSTM, Dense, Dropout, GRU, Bidirectional\n",
    "from keras.callbacks import EarlyStopping\n",
    "\n",
    "# Download NLTK resources\n",
    "nltk.download('stopwords')\n",
    "nltk.download('punkt')\n",
    "nltk.download('wordnet')\n",
    "\n",
    "import warnings\n",
    "warnings.filterwarnings('ignore')"
   ]
  },
  {
   "cell_type": "code",
   "execution_count": 5,
   "id": "9b596330-d7e9-4fa9-9da6-0d66e92ab3ce",
   "metadata": {},
   "outputs": [
    {
     "data": {
      "text/html": [
       "<div>\n",
       "<style scoped>\n",
       "    .dataframe tbody tr th:only-of-type {\n",
       "        vertical-align: middle;\n",
       "    }\n",
       "\n",
       "    .dataframe tbody tr th {\n",
       "        vertical-align: top;\n",
       "    }\n",
       "\n",
       "    .dataframe thead th {\n",
       "        text-align: right;\n",
       "    }\n",
       "</style>\n",
       "<table border=\"1\" class=\"dataframe\">\n",
       "  <thead>\n",
       "    <tr style=\"text-align: right;\">\n",
       "      <th></th>\n",
       "      <th>title</th>\n",
       "      <th>text</th>\n",
       "      <th>date</th>\n",
       "      <th>source</th>\n",
       "      <th>author</th>\n",
       "      <th>category</th>\n",
       "      <th>label</th>\n",
       "    </tr>\n",
       "  </thead>\n",
       "  <tbody>\n",
       "    <tr>\n",
       "      <th>0</th>\n",
       "      <td>Foreign Democrat final.</td>\n",
       "      <td>more tax development both store agreement lawy...</td>\n",
       "      <td>2023-03-10</td>\n",
       "      <td>NY Times</td>\n",
       "      <td>Paula George</td>\n",
       "      <td>Politics</td>\n",
       "      <td>real</td>\n",
       "    </tr>\n",
       "    <tr>\n",
       "      <th>1</th>\n",
       "      <td>To offer down resource great point.</td>\n",
       "      <td>probably guess western behind likely next inve...</td>\n",
       "      <td>2022-05-25</td>\n",
       "      <td>Fox News</td>\n",
       "      <td>Joseph Hill</td>\n",
       "      <td>Politics</td>\n",
       "      <td>fake</td>\n",
       "    </tr>\n",
       "    <tr>\n",
       "      <th>2</th>\n",
       "      <td>Himself church myself carry.</td>\n",
       "      <td>them identify forward present success risk sev...</td>\n",
       "      <td>2022-09-01</td>\n",
       "      <td>CNN</td>\n",
       "      <td>Julia Robinson</td>\n",
       "      <td>Business</td>\n",
       "      <td>fake</td>\n",
       "    </tr>\n",
       "    <tr>\n",
       "      <th>3</th>\n",
       "      <td>You unit its should.</td>\n",
       "      <td>phone which item yard Republican safe where po...</td>\n",
       "      <td>2023-02-07</td>\n",
       "      <td>Reuters</td>\n",
       "      <td>Mr. David Foster DDS</td>\n",
       "      <td>Science</td>\n",
       "      <td>fake</td>\n",
       "    </tr>\n",
       "    <tr>\n",
       "      <th>4</th>\n",
       "      <td>Billion believe employee summer how.</td>\n",
       "      <td>wonder myself fact difficult course forget exa...</td>\n",
       "      <td>2023-04-03</td>\n",
       "      <td>CNN</td>\n",
       "      <td>Austin Walker</td>\n",
       "      <td>Technology</td>\n",
       "      <td>fake</td>\n",
       "    </tr>\n",
       "  </tbody>\n",
       "</table>\n",
       "</div>"
      ],
      "text/plain": [
       "                                  title  \\\n",
       "0               Foreign Democrat final.   \n",
       "1   To offer down resource great point.   \n",
       "2          Himself church myself carry.   \n",
       "3                  You unit its should.   \n",
       "4  Billion believe employee summer how.   \n",
       "\n",
       "                                                text        date    source  \\\n",
       "0  more tax development both store agreement lawy...  2023-03-10  NY Times   \n",
       "1  probably guess western behind likely next inve...  2022-05-25  Fox News   \n",
       "2  them identify forward present success risk sev...  2022-09-01       CNN   \n",
       "3  phone which item yard Republican safe where po...  2023-02-07   Reuters   \n",
       "4  wonder myself fact difficult course forget exa...  2023-04-03       CNN   \n",
       "\n",
       "                 author    category label  \n",
       "0          Paula George    Politics  real  \n",
       "1           Joseph Hill    Politics  fake  \n",
       "2        Julia Robinson    Business  fake  \n",
       "3  Mr. David Foster DDS     Science  fake  \n",
       "4         Austin Walker  Technology  fake  "
      ]
     },
     "execution_count": 5,
     "metadata": {},
     "output_type": "execute_result"
    }
   ],
   "source": [
    "df = pd.read_csv('fake_news_dataset.csv')\n",
    "df.head()"
   ]
  },
  {
   "cell_type": "code",
   "execution_count": 6,
   "id": "e134a120-a609-47b3-b819-b3d16344a975",
   "metadata": {},
   "outputs": [
    {
     "data": {
      "text/plain": [
       "title       20000\n",
       "text        20000\n",
       "date         1096\n",
       "source          8\n",
       "author      17051\n",
       "category        7\n",
       "label           2\n",
       "dtype: int64"
      ]
     },
     "execution_count": 6,
     "metadata": {},
     "output_type": "execute_result"
    }
   ],
   "source": [
    "df.nunique()"
   ]
  },
  {
   "cell_type": "code",
   "execution_count": 7,
   "id": "299ab094-7ad9-48bb-942e-dcef0cdd4858",
   "metadata": {},
   "outputs": [
    {
     "data": {
      "text/plain": [
       "array(['NY Times', 'Fox News', 'CNN', 'Reuters', 'Daily News',\n",
       "       'Global Times', 'The Guardian', 'BBC', nan], dtype=object)"
      ]
     },
     "execution_count": 7,
     "metadata": {},
     "output_type": "execute_result"
    }
   ],
   "source": [
    "df['source'].unique()"
   ]
  },
  {
   "cell_type": "code",
   "execution_count": 8,
   "id": "5706cd7d-4801-471d-933c-bb5313a14f88",
   "metadata": {},
   "outputs": [
    {
     "data": {
      "text/plain": [
       "array(['Politics', 'Business', 'Science', 'Technology', 'Health',\n",
       "       'Sports', 'Entertainment'], dtype=object)"
      ]
     },
     "execution_count": 8,
     "metadata": {},
     "output_type": "execute_result"
    }
   ],
   "source": [
    "df['category'].unique()"
   ]
  },
  {
   "cell_type": "code",
   "execution_count": 9,
   "id": "587ba8d6-f386-43c9-8123-b3d908ba619a",
   "metadata": {},
   "outputs": [
    {
     "data": {
      "text/plain": [
       "array(['real', 'fake'], dtype=object)"
      ]
     },
     "execution_count": 9,
     "metadata": {},
     "output_type": "execute_result"
    }
   ],
   "source": [
    "df['label'].unique()"
   ]
  },
  {
   "cell_type": "code",
   "execution_count": 10,
   "id": "07386aa2-7d2a-4ab4-80c4-7f970c562dbf",
   "metadata": {},
   "outputs": [
    {
     "data": {
      "text/plain": [
       "fake    10056\n",
       "real     9944\n",
       "Name: label, dtype: int64"
      ]
     },
     "execution_count": 10,
     "metadata": {},
     "output_type": "execute_result"
    }
   ],
   "source": [
    "df['label'].value_counts()"
   ]
  },
  {
   "cell_type": "code",
   "execution_count": 11,
   "id": "1e2f0805-70a6-4f7d-9ee4-1086f31fe9dc",
   "metadata": {},
   "outputs": [
    {
     "data": {
      "text/plain": [
       "category\n",
       "Business         1471\n",
       "Entertainment    1460\n",
       "Health           1482\n",
       "Politics         1399\n",
       "Science          1376\n",
       "Sports           1444\n",
       "Technology       1424\n",
       "dtype: int64"
      ]
     },
     "execution_count": 11,
     "metadata": {},
     "output_type": "execute_result"
    }
   ],
   "source": [
    "category_counts = df[df['label'] == 'fake'].groupby('category').size()\n",
    "category_counts"
   ]
  },
  {
   "cell_type": "code",
   "execution_count": 12,
   "id": "3bec2c68-81d7-49d2-bd72-1bb935b17460",
   "metadata": {},
   "outputs": [
    {
     "data": {
      "text/plain": [
       "source\n",
       "BBC             1178\n",
       "CNN             1202\n",
       "Daily News      1225\n",
       "Fox News        1198\n",
       "Global Times    1166\n",
       "NY Times        1220\n",
       "Reuters         1176\n",
       "The Guardian    1188\n",
       "dtype: int64"
      ]
     },
     "execution_count": 12,
     "metadata": {},
     "output_type": "execute_result"
    }
   ],
   "source": [
    "source_counts = df[df['label'] == 'fake'].groupby('source').size()\n",
    "source_counts"
   ]
  },
  {
   "cell_type": "code",
   "execution_count": 13,
   "id": "bac02c2e-7205-4b42-a520-9c6fe5265ea6",
   "metadata": {},
   "outputs": [
    {
     "data": {
      "text/plain": [
       "6"
      ]
     },
     "execution_count": 13,
     "metadata": {},
     "output_type": "execute_result"
    }
   ],
   "source": [
    "author_counts = df[df['label'] == 'fake'].groupby('author').size()\n",
    "author_counts.nunique()"
   ]
  },
  {
   "cell_type": "code",
   "execution_count": 14,
   "id": "2ffe5c58-9fe3-42ee-bbb5-94cbccdcf58c",
   "metadata": {},
   "outputs": [
    {
     "data": {
      "text/plain": [
       "array([1, 2, 3, 5, 4, 6], dtype=int64)"
      ]
     },
     "execution_count": 14,
     "metadata": {},
     "output_type": "execute_result"
    }
   ],
   "source": [
    "author_counts.unique()"
   ]
  },
  {
   "cell_type": "code",
   "execution_count": 15,
   "id": "9c13b4ac-43d6-497c-884a-55d433da20b3",
   "metadata": {},
   "outputs": [
    {
     "data": {
      "text/plain": [
       "author\n",
       "James Smith    6\n",
       "dtype: int64"
      ]
     },
     "execution_count": 15,
     "metadata": {},
     "output_type": "execute_result"
    }
   ],
   "source": [
    "author_counts[author_counts == 6]"
   ]
  },
  {
   "cell_type": "code",
   "execution_count": 16,
   "id": "e18e6125-5369-44e8-aad3-dd5d4c7057e5",
   "metadata": {},
   "outputs": [
    {
     "data": {
      "text/html": [
       "<div>\n",
       "<style scoped>\n",
       "    .dataframe tbody tr th:only-of-type {\n",
       "        vertical-align: middle;\n",
       "    }\n",
       "\n",
       "    .dataframe tbody tr th {\n",
       "        vertical-align: top;\n",
       "    }\n",
       "\n",
       "    .dataframe thead th {\n",
       "        text-align: right;\n",
       "    }\n",
       "</style>\n",
       "<table border=\"1\" class=\"dataframe\">\n",
       "  <thead>\n",
       "    <tr style=\"text-align: right;\">\n",
       "      <th></th>\n",
       "      <th>title</th>\n",
       "      <th>text</th>\n",
       "      <th>date</th>\n",
       "      <th>source</th>\n",
       "      <th>author</th>\n",
       "      <th>category</th>\n",
       "      <th>label</th>\n",
       "    </tr>\n",
       "  </thead>\n",
       "  <tbody>\n",
       "    <tr>\n",
       "      <th>998</th>\n",
       "      <td>There nothing five activity return rest value.</td>\n",
       "      <td>skin plant society language fly chair professi...</td>\n",
       "      <td>2023-11-25</td>\n",
       "      <td>Global Times</td>\n",
       "      <td>James Smith</td>\n",
       "      <td>Health</td>\n",
       "      <td>fake</td>\n",
       "    </tr>\n",
       "    <tr>\n",
       "      <th>4525</th>\n",
       "      <td>Certainly provide cup rather beautiful writer ...</td>\n",
       "      <td>need letter citizen response sister easy wind ...</td>\n",
       "      <td>2024-07-06</td>\n",
       "      <td>BBC</td>\n",
       "      <td>James Smith</td>\n",
       "      <td>Technology</td>\n",
       "      <td>fake</td>\n",
       "    </tr>\n",
       "    <tr>\n",
       "      <th>7461</th>\n",
       "      <td>Customer maybe five figure wear ahead.</td>\n",
       "      <td>wide fire year indicate candidate there bag fu...</td>\n",
       "      <td>2024-08-11</td>\n",
       "      <td>NY Times</td>\n",
       "      <td>James Smith</td>\n",
       "      <td>Health</td>\n",
       "      <td>fake</td>\n",
       "    </tr>\n",
       "    <tr>\n",
       "      <th>13482</th>\n",
       "      <td>Car example enter meeting society treatment fa...</td>\n",
       "      <td>until rate trip article create billion politic...</td>\n",
       "      <td>2023-02-14</td>\n",
       "      <td>Daily News</td>\n",
       "      <td>James Smith</td>\n",
       "      <td>Health</td>\n",
       "      <td>fake</td>\n",
       "    </tr>\n",
       "    <tr>\n",
       "      <th>16836</th>\n",
       "      <td>Education where middle my man civil.</td>\n",
       "      <td>attorney fund section professor parent certain...</td>\n",
       "      <td>2024-09-14</td>\n",
       "      <td>CNN</td>\n",
       "      <td>James Smith</td>\n",
       "      <td>Entertainment</td>\n",
       "      <td>real</td>\n",
       "    </tr>\n",
       "    <tr>\n",
       "      <th>19363</th>\n",
       "      <td>Sell discover allow.</td>\n",
       "      <td>too draw kid arm service third phone team prep...</td>\n",
       "      <td>2022-05-03</td>\n",
       "      <td>BBC</td>\n",
       "      <td>James Smith</td>\n",
       "      <td>Business</td>\n",
       "      <td>fake</td>\n",
       "    </tr>\n",
       "    <tr>\n",
       "      <th>19366</th>\n",
       "      <td>Else moment bring enter effect practice mother.</td>\n",
       "      <td>design college water how close main soldier cl...</td>\n",
       "      <td>2023-08-27</td>\n",
       "      <td>CNN</td>\n",
       "      <td>James Smith</td>\n",
       "      <td>Politics</td>\n",
       "      <td>fake</td>\n",
       "    </tr>\n",
       "  </tbody>\n",
       "</table>\n",
       "</div>"
      ],
      "text/plain": [
       "                                                   title  \\\n",
       "998       There nothing five activity return rest value.   \n",
       "4525   Certainly provide cup rather beautiful writer ...   \n",
       "7461              Customer maybe five figure wear ahead.   \n",
       "13482  Car example enter meeting society treatment fa...   \n",
       "16836               Education where middle my man civil.   \n",
       "19363                               Sell discover allow.   \n",
       "19366    Else moment bring enter effect practice mother.   \n",
       "\n",
       "                                                    text        date  \\\n",
       "998    skin plant society language fly chair professi...  2023-11-25   \n",
       "4525   need letter citizen response sister easy wind ...  2024-07-06   \n",
       "7461   wide fire year indicate candidate there bag fu...  2024-08-11   \n",
       "13482  until rate trip article create billion politic...  2023-02-14   \n",
       "16836  attorney fund section professor parent certain...  2024-09-14   \n",
       "19363  too draw kid arm service third phone team prep...  2022-05-03   \n",
       "19366  design college water how close main soldier cl...  2023-08-27   \n",
       "\n",
       "             source       author       category label  \n",
       "998    Global Times  James Smith         Health  fake  \n",
       "4525            BBC  James Smith     Technology  fake  \n",
       "7461       NY Times  James Smith         Health  fake  \n",
       "13482    Daily News  James Smith         Health  fake  \n",
       "16836           CNN  James Smith  Entertainment  real  \n",
       "19363           BBC  James Smith       Business  fake  \n",
       "19366           CNN  James Smith       Politics  fake  "
      ]
     },
     "execution_count": 16,
     "metadata": {},
     "output_type": "execute_result"
    }
   ],
   "source": [
    "df[df['author'] == 'James Smith']"
   ]
  },
  {
   "cell_type": "code",
   "execution_count": 17,
   "id": "f6fbfb7e-391f-4f86-920a-0a8d51b25107",
   "metadata": {},
   "outputs": [
    {
     "data": {
      "text/plain": [
       "author\n",
       "Christopher Johnson    5\n",
       "John Brown             5\n",
       "dtype: int64"
      ]
     },
     "execution_count": 17,
     "metadata": {},
     "output_type": "execute_result"
    }
   ],
   "source": [
    "author_counts[author_counts == 5]"
   ]
  },
  {
   "cell_type": "code",
   "execution_count": 18,
   "id": "f072191e-3f69-428f-8f93-127148cdb805",
   "metadata": {},
   "outputs": [
    {
     "data": {
      "text/html": [
       "<div>\n",
       "<style scoped>\n",
       "    .dataframe tbody tr th:only-of-type {\n",
       "        vertical-align: middle;\n",
       "    }\n",
       "\n",
       "    .dataframe tbody tr th {\n",
       "        vertical-align: top;\n",
       "    }\n",
       "\n",
       "    .dataframe thead th {\n",
       "        text-align: right;\n",
       "    }\n",
       "</style>\n",
       "<table border=\"1\" class=\"dataframe\">\n",
       "  <thead>\n",
       "    <tr style=\"text-align: right;\">\n",
       "      <th></th>\n",
       "      <th>title</th>\n",
       "      <th>text</th>\n",
       "      <th>date</th>\n",
       "      <th>source</th>\n",
       "      <th>author</th>\n",
       "      <th>category</th>\n",
       "      <th>label</th>\n",
       "    </tr>\n",
       "  </thead>\n",
       "  <tbody>\n",
       "    <tr>\n",
       "      <th>4358</th>\n",
       "      <td>Capital indeed investment best federal.</td>\n",
       "      <td>education investment under management communit...</td>\n",
       "      <td>2023-08-06</td>\n",
       "      <td>CNN</td>\n",
       "      <td>Christopher Johnson</td>\n",
       "      <td>Business</td>\n",
       "      <td>real</td>\n",
       "    </tr>\n",
       "    <tr>\n",
       "      <th>5120</th>\n",
       "      <td>Create threat project medical.</td>\n",
       "      <td>myself itself whose scene last feel likely fal...</td>\n",
       "      <td>2024-12-18</td>\n",
       "      <td>CNN</td>\n",
       "      <td>Christopher Johnson</td>\n",
       "      <td>Politics</td>\n",
       "      <td>real</td>\n",
       "    </tr>\n",
       "    <tr>\n",
       "      <th>12077</th>\n",
       "      <td>Short moment couple thought natural later.</td>\n",
       "      <td>keep wrong edge purpose general line bag whose...</td>\n",
       "      <td>2024-06-08</td>\n",
       "      <td>Fox News</td>\n",
       "      <td>Christopher Johnson</td>\n",
       "      <td>Entertainment</td>\n",
       "      <td>fake</td>\n",
       "    </tr>\n",
       "    <tr>\n",
       "      <th>14308</th>\n",
       "      <td>When forget continue guess just.</td>\n",
       "      <td>poor war fly western almost turn cause head lo...</td>\n",
       "      <td>2022-06-13</td>\n",
       "      <td>Fox News</td>\n",
       "      <td>Christopher Johnson</td>\n",
       "      <td>Technology</td>\n",
       "      <td>real</td>\n",
       "    </tr>\n",
       "    <tr>\n",
       "      <th>14485</th>\n",
       "      <td>Bag because hope rest reveal now.</td>\n",
       "      <td>guy college shoulder list whose note form inve...</td>\n",
       "      <td>2024-07-29</td>\n",
       "      <td>NaN</td>\n",
       "      <td>Christopher Johnson</td>\n",
       "      <td>Science</td>\n",
       "      <td>fake</td>\n",
       "    </tr>\n",
       "    <tr>\n",
       "      <th>15308</th>\n",
       "      <td>I commercial physical example.</td>\n",
       "      <td>south stand stand than talk yeah modern sort m...</td>\n",
       "      <td>2024-05-23</td>\n",
       "      <td>Daily News</td>\n",
       "      <td>Christopher Johnson</td>\n",
       "      <td>Health</td>\n",
       "      <td>real</td>\n",
       "    </tr>\n",
       "    <tr>\n",
       "      <th>15917</th>\n",
       "      <td>Meet always hold near.</td>\n",
       "      <td>above central may many show need over top staf...</td>\n",
       "      <td>2024-04-11</td>\n",
       "      <td>BBC</td>\n",
       "      <td>Christopher Johnson</td>\n",
       "      <td>Health</td>\n",
       "      <td>fake</td>\n",
       "    </tr>\n",
       "    <tr>\n",
       "      <th>16754</th>\n",
       "      <td>Offer base continue party talk approach.</td>\n",
       "      <td>dinner no of interview eight discover window l...</td>\n",
       "      <td>2023-09-26</td>\n",
       "      <td>The Guardian</td>\n",
       "      <td>Christopher Johnson</td>\n",
       "      <td>Entertainment</td>\n",
       "      <td>fake</td>\n",
       "    </tr>\n",
       "    <tr>\n",
       "      <th>19428</th>\n",
       "      <td>Born key reason effort bill pattern research.</td>\n",
       "      <td>billion center child bar authority half so hel...</td>\n",
       "      <td>2023-12-11</td>\n",
       "      <td>Fox News</td>\n",
       "      <td>Christopher Johnson</td>\n",
       "      <td>Sports</td>\n",
       "      <td>fake</td>\n",
       "    </tr>\n",
       "  </tbody>\n",
       "</table>\n",
       "</div>"
      ],
      "text/plain": [
       "                                               title  \\\n",
       "4358         Capital indeed investment best federal.   \n",
       "5120                  Create threat project medical.   \n",
       "12077     Short moment couple thought natural later.   \n",
       "14308               When forget continue guess just.   \n",
       "14485              Bag because hope rest reveal now.   \n",
       "15308                 I commercial physical example.   \n",
       "15917                         Meet always hold near.   \n",
       "16754       Offer base continue party talk approach.   \n",
       "19428  Born key reason effort bill pattern research.   \n",
       "\n",
       "                                                    text        date  \\\n",
       "4358   education investment under management communit...  2023-08-06   \n",
       "5120   myself itself whose scene last feel likely fal...  2024-12-18   \n",
       "12077  keep wrong edge purpose general line bag whose...  2024-06-08   \n",
       "14308  poor war fly western almost turn cause head lo...  2022-06-13   \n",
       "14485  guy college shoulder list whose note form inve...  2024-07-29   \n",
       "15308  south stand stand than talk yeah modern sort m...  2024-05-23   \n",
       "15917  above central may many show need over top staf...  2024-04-11   \n",
       "16754  dinner no of interview eight discover window l...  2023-09-26   \n",
       "19428  billion center child bar authority half so hel...  2023-12-11   \n",
       "\n",
       "             source               author       category label  \n",
       "4358            CNN  Christopher Johnson       Business  real  \n",
       "5120            CNN  Christopher Johnson       Politics  real  \n",
       "12077      Fox News  Christopher Johnson  Entertainment  fake  \n",
       "14308      Fox News  Christopher Johnson     Technology  real  \n",
       "14485           NaN  Christopher Johnson        Science  fake  \n",
       "15308    Daily News  Christopher Johnson         Health  real  \n",
       "15917           BBC  Christopher Johnson         Health  fake  \n",
       "16754  The Guardian  Christopher Johnson  Entertainment  fake  \n",
       "19428      Fox News  Christopher Johnson         Sports  fake  "
      ]
     },
     "execution_count": 18,
     "metadata": {},
     "output_type": "execute_result"
    }
   ],
   "source": [
    "df[df['author'] == 'Christopher Johnson']"
   ]
  },
  {
   "cell_type": "code",
   "execution_count": 19,
   "id": "8037cc46-bc1d-4783-a341-a8318a4c95c6",
   "metadata": {},
   "outputs": [
    {
     "data": {
      "text/html": [
       "<div>\n",
       "<style scoped>\n",
       "    .dataframe tbody tr th:only-of-type {\n",
       "        vertical-align: middle;\n",
       "    }\n",
       "\n",
       "    .dataframe tbody tr th {\n",
       "        vertical-align: top;\n",
       "    }\n",
       "\n",
       "    .dataframe thead th {\n",
       "        text-align: right;\n",
       "    }\n",
       "</style>\n",
       "<table border=\"1\" class=\"dataframe\">\n",
       "  <thead>\n",
       "    <tr style=\"text-align: right;\">\n",
       "      <th></th>\n",
       "      <th>title</th>\n",
       "      <th>text</th>\n",
       "      <th>date</th>\n",
       "      <th>source</th>\n",
       "      <th>author</th>\n",
       "      <th>category</th>\n",
       "      <th>label</th>\n",
       "    </tr>\n",
       "  </thead>\n",
       "  <tbody>\n",
       "    <tr>\n",
       "      <th>353</th>\n",
       "      <td>No create next foot bar indeed reach.</td>\n",
       "      <td>hotel yes ground as worker author class much s...</td>\n",
       "      <td>2023-03-18</td>\n",
       "      <td>Fox News</td>\n",
       "      <td>John Brown</td>\n",
       "      <td>Science</td>\n",
       "      <td>fake</td>\n",
       "    </tr>\n",
       "    <tr>\n",
       "      <th>1727</th>\n",
       "      <td>Get our piece low stage part skin number.</td>\n",
       "      <td>look technology work off season reduce series ...</td>\n",
       "      <td>2024-10-31</td>\n",
       "      <td>Daily News</td>\n",
       "      <td>John Brown</td>\n",
       "      <td>Entertainment</td>\n",
       "      <td>real</td>\n",
       "    </tr>\n",
       "    <tr>\n",
       "      <th>9651</th>\n",
       "      <td>Beautiful skill sit movement from artist direc...</td>\n",
       "      <td>trade more subject level piece another already...</td>\n",
       "      <td>2022-08-07</td>\n",
       "      <td>CNN</td>\n",
       "      <td>John Brown</td>\n",
       "      <td>Health</td>\n",
       "      <td>fake</td>\n",
       "    </tr>\n",
       "    <tr>\n",
       "      <th>10587</th>\n",
       "      <td>Add trip popular culture laugh.</td>\n",
       "      <td>hundred whose strategy soldier movement every ...</td>\n",
       "      <td>2023-03-09</td>\n",
       "      <td>Fox News</td>\n",
       "      <td>John Brown</td>\n",
       "      <td>Science</td>\n",
       "      <td>fake</td>\n",
       "    </tr>\n",
       "    <tr>\n",
       "      <th>11014</th>\n",
       "      <td>With you road party result outside.</td>\n",
       "      <td>market provide their professional history play...</td>\n",
       "      <td>2022-07-14</td>\n",
       "      <td>CNN</td>\n",
       "      <td>John Brown</td>\n",
       "      <td>Sports</td>\n",
       "      <td>fake</td>\n",
       "    </tr>\n",
       "    <tr>\n",
       "      <th>11871</th>\n",
       "      <td>Recognize whom reduce region sometimes.</td>\n",
       "      <td>them impact trouble win administration all rea...</td>\n",
       "      <td>2023-01-20</td>\n",
       "      <td>Fox News</td>\n",
       "      <td>John Brown</td>\n",
       "      <td>Health</td>\n",
       "      <td>fake</td>\n",
       "    </tr>\n",
       "    <tr>\n",
       "      <th>13852</th>\n",
       "      <td>Factor officer building professional fight.</td>\n",
       "      <td>difference address heart manage hot her busine...</td>\n",
       "      <td>2022-05-31</td>\n",
       "      <td>Global Times</td>\n",
       "      <td>John Brown</td>\n",
       "      <td>Politics</td>\n",
       "      <td>real</td>\n",
       "    </tr>\n",
       "  </tbody>\n",
       "</table>\n",
       "</div>"
      ],
      "text/plain": [
       "                                                   title  \\\n",
       "353                No create next foot bar indeed reach.   \n",
       "1727           Get our piece low stage part skin number.   \n",
       "9651   Beautiful skill sit movement from artist direc...   \n",
       "10587                    Add trip popular culture laugh.   \n",
       "11014                With you road party result outside.   \n",
       "11871            Recognize whom reduce region sometimes.   \n",
       "13852        Factor officer building professional fight.   \n",
       "\n",
       "                                                    text        date  \\\n",
       "353    hotel yes ground as worker author class much s...  2023-03-18   \n",
       "1727   look technology work off season reduce series ...  2024-10-31   \n",
       "9651   trade more subject level piece another already...  2022-08-07   \n",
       "10587  hundred whose strategy soldier movement every ...  2023-03-09   \n",
       "11014  market provide their professional history play...  2022-07-14   \n",
       "11871  them impact trouble win administration all rea...  2023-01-20   \n",
       "13852  difference address heart manage hot her busine...  2022-05-31   \n",
       "\n",
       "             source      author       category label  \n",
       "353        Fox News  John Brown        Science  fake  \n",
       "1727     Daily News  John Brown  Entertainment  real  \n",
       "9651            CNN  John Brown         Health  fake  \n",
       "10587      Fox News  John Brown        Science  fake  \n",
       "11014           CNN  John Brown         Sports  fake  \n",
       "11871      Fox News  John Brown         Health  fake  \n",
       "13852  Global Times  John Brown       Politics  real  "
      ]
     },
     "execution_count": 19,
     "metadata": {},
     "output_type": "execute_result"
    }
   ],
   "source": [
    "df[df['author'] == 'John Brown']"
   ]
  },
  {
   "cell_type": "code",
   "execution_count": 20,
   "id": "955afc64-f374-457d-af12-33a71e484344",
   "metadata": {},
   "outputs": [
    {
     "data": {
      "text/plain": [
       "(20000, 5)"
      ]
     },
     "execution_count": 20,
     "metadata": {},
     "output_type": "execute_result"
    }
   ],
   "source": [
    "df = df.drop(['date', 'author'], axis=1)\n",
    "df.shape"
   ]
  },
  {
   "cell_type": "code",
   "execution_count": 21,
   "id": "addefa58-48f8-40bf-9258-6265156cb18a",
   "metadata": {},
   "outputs": [
    {
     "data": {
      "text/html": [
       "<div>\n",
       "<style scoped>\n",
       "    .dataframe tbody tr th:only-of-type {\n",
       "        vertical-align: middle;\n",
       "    }\n",
       "\n",
       "    .dataframe tbody tr th {\n",
       "        vertical-align: top;\n",
       "    }\n",
       "\n",
       "    .dataframe thead th {\n",
       "        text-align: right;\n",
       "    }\n",
       "</style>\n",
       "<table border=\"1\" class=\"dataframe\">\n",
       "  <thead>\n",
       "    <tr style=\"text-align: right;\">\n",
       "      <th></th>\n",
       "      <th>title</th>\n",
       "      <th>text</th>\n",
       "      <th>source</th>\n",
       "      <th>category</th>\n",
       "      <th>label</th>\n",
       "    </tr>\n",
       "  </thead>\n",
       "  <tbody>\n",
       "    <tr>\n",
       "      <th>0</th>\n",
       "      <td>Foreign Democrat final.</td>\n",
       "      <td>more tax development both store agreement lawy...</td>\n",
       "      <td>NY Times</td>\n",
       "      <td>Politics</td>\n",
       "      <td>real</td>\n",
       "    </tr>\n",
       "    <tr>\n",
       "      <th>1</th>\n",
       "      <td>To offer down resource great point.</td>\n",
       "      <td>probably guess western behind likely next inve...</td>\n",
       "      <td>Fox News</td>\n",
       "      <td>Politics</td>\n",
       "      <td>fake</td>\n",
       "    </tr>\n",
       "    <tr>\n",
       "      <th>2</th>\n",
       "      <td>Himself church myself carry.</td>\n",
       "      <td>them identify forward present success risk sev...</td>\n",
       "      <td>CNN</td>\n",
       "      <td>Business</td>\n",
       "      <td>fake</td>\n",
       "    </tr>\n",
       "    <tr>\n",
       "      <th>3</th>\n",
       "      <td>You unit its should.</td>\n",
       "      <td>phone which item yard Republican safe where po...</td>\n",
       "      <td>Reuters</td>\n",
       "      <td>Science</td>\n",
       "      <td>fake</td>\n",
       "    </tr>\n",
       "    <tr>\n",
       "      <th>4</th>\n",
       "      <td>Billion believe employee summer how.</td>\n",
       "      <td>wonder myself fact difficult course forget exa...</td>\n",
       "      <td>CNN</td>\n",
       "      <td>Technology</td>\n",
       "      <td>fake</td>\n",
       "    </tr>\n",
       "  </tbody>\n",
       "</table>\n",
       "</div>"
      ],
      "text/plain": [
       "                                  title  \\\n",
       "0               Foreign Democrat final.   \n",
       "1   To offer down resource great point.   \n",
       "2          Himself church myself carry.   \n",
       "3                  You unit its should.   \n",
       "4  Billion believe employee summer how.   \n",
       "\n",
       "                                                text    source    category  \\\n",
       "0  more tax development both store agreement lawy...  NY Times    Politics   \n",
       "1  probably guess western behind likely next inve...  Fox News    Politics   \n",
       "2  them identify forward present success risk sev...       CNN    Business   \n",
       "3  phone which item yard Republican safe where po...   Reuters     Science   \n",
       "4  wonder myself fact difficult course forget exa...       CNN  Technology   \n",
       "\n",
       "  label  \n",
       "0  real  \n",
       "1  fake  \n",
       "2  fake  \n",
       "3  fake  \n",
       "4  fake  "
      ]
     },
     "execution_count": 21,
     "metadata": {},
     "output_type": "execute_result"
    }
   ],
   "source": [
    "df.head()"
   ]
  },
  {
   "cell_type": "code",
   "execution_count": 22,
   "id": "bc4042df-8d82-49d4-84d3-02869eb56603",
   "metadata": {},
   "outputs": [
    {
     "name": "stdout",
     "output_type": "stream",
     "text": [
      "<class 'pandas.core.frame.DataFrame'>\n",
      "RangeIndex: 20000 entries, 0 to 19999\n",
      "Data columns (total 5 columns):\n",
      " #   Column    Non-Null Count  Dtype \n",
      "---  ------    --------------  ----- \n",
      " 0   title     20000 non-null  object\n",
      " 1   text      20000 non-null  object\n",
      " 2   source    19000 non-null  object\n",
      " 3   category  20000 non-null  object\n",
      " 4   label     20000 non-null  object\n",
      "dtypes: object(5)\n",
      "memory usage: 781.4+ KB\n"
     ]
    }
   ],
   "source": [
    "df.info()"
   ]
  },
  {
   "cell_type": "code",
   "execution_count": 23,
   "id": "9f566d7d-4a60-4d8d-99ea-873f1021a3b4",
   "metadata": {},
   "outputs": [
    {
     "data": {
      "text/plain": [
       "250.1833"
      ]
     },
     "execution_count": 23,
     "metadata": {},
     "output_type": "execute_result"
    }
   ],
   "source": [
    "df['text'].str.split().str.len().mean()"
   ]
  },
  {
   "cell_type": "code",
   "execution_count": 24,
   "id": "25e8ee15-ebdb-469d-87bc-e0d523c9dc02",
   "metadata": {},
   "outputs": [
    {
     "data": {
      "text/plain": [
       "5.49835"
      ]
     },
     "execution_count": 24,
     "metadata": {},
     "output_type": "execute_result"
    }
   ],
   "source": [
    "df['title'].str.split().str.len().mean()"
   ]
  },
  {
   "cell_type": "code",
   "execution_count": 25,
   "id": "ec863d4f-976d-46f8-a14f-6c970c70ddde",
   "metadata": {},
   "outputs": [
    {
     "data": {
      "text/plain": [
       "'wind language strategy line book also fish reflect claim hold speech else increase case concern theory fish stuff cut prepare spend society home conference most part against fall executive black soldier practice blue reduce pattern walk expert property real gas per southern organization what including our like save tend professor partner cover evening the suggest bill condition just radio myself feel record effect knowledge same state modern design who idea ever possible military policy total laugh behavior surface eye interesting woman source inside keep wife great well material or education condition well order three measure debate American education employee follow question out blue interest ground close democratic staff new shoulder thank strategy real upon body between industry force do whatever many tax toward everybody which country already actually society drive lead thing those everything everyone team simple money born our everyone plan enter suffer happen arm spring share stay general minute effect capital available international along may indicate record yeah customer force minute between similar street magazine glass money purpose stock space fear game shoulder option official forget figure garden evidence pass power do determine area research education imagine everybody art music about find southern cause fight wrong see contain claim whole bank southern cause white positive practice such keep'"
      ]
     },
     "execution_count": 25,
     "metadata": {},
     "output_type": "execute_result"
    }
   ],
   "source": [
    "df['text'][99]"
   ]
  },
  {
   "cell_type": "code",
   "execution_count": 26,
   "id": "d541657e-c4de-48e4-b3cb-039af2d9f84c",
   "metadata": {},
   "outputs": [
    {
     "data": {
      "text/plain": [
       "'response owner hard left economic senior example part tree speak require ready imagine federal skin writer air get key conference close fund approach story get center window season area executive participant nation fine trouble consider free east recently social stay clear magazine behavior guess special want any create politics up who contain them article mean hear recently forward action stage lose measure course east none drop campaign senior lose behavior movie morning purpose consider capital house page only some or whom best explain structure citizen fact full glass put wife million your teacher pressure south dark together social fly animal yourself drop on service professor both morning certainly attention dog process west hit southern believe cost turn instead night just interest once occur thus old evidence street raise level charge prepare almost control religious important soon song agency at trade consider themselves teacher American environmental per fire if network alone two turn through science prepare above level themselves rest alone allow what benefit every reason maintain product lose one make and knowledge ground manager outside hospital or history it office candidate school mother series exactly option compare course her push then news money support air major of cut national health continue call development lose artist course describe number become by American sea pay stand feel now leg water war staff begin story skin computer simply population cause life market prevent only watch hope direction public reduce realize my finish seem because'"
      ]
     },
     "execution_count": 26,
     "metadata": {},
     "output_type": "execute_result"
    }
   ],
   "source": [
    "df['text'][999]"
   ]
  },
  {
   "cell_type": "code",
   "execution_count": 27,
   "id": "e5905f6d-bc75-437e-9158-efd72c6553a6",
   "metadata": {},
   "outputs": [
    {
     "data": {
      "text/plain": [
       "'care south positive item crime difference hear pull door message who military nation second moment store become product service bar even natural maybe machine recognize something very somebody talk job staff design entire company population often feel son drug safe pull item magazine according reality by able fight offer successful however rise line use writer south before news begin purpose population particularly police budget member heart receive president entire unit through green something law what despite impact huge mind increase idea perform boy believe more deep back organization owner or address better student serve first own sometimes subject product box pull sing mind wide control agree key first true each letter per eye these identify open police girl young senior lot sense stop support then determine head my would mission mention program pass drop establish prepare lot foot realize tonight contain election follow enter southern opportunity line name lay spring tend suffer appear parent force town according behavior leg kid usually order morning ground myself executive tonight energy president campaign glass purpose discuss business even whatever spring meet move race consider level vote house agent institution painting land property sometimes whole include standard style find suffer challenge better factor camera since door feel ago open main program including accept interesting report mention science defense order heavy these note serious someone treat society group easy business statement dark practice radio discover next heavy religious fly leg star too couple growth store five receive treatment effect stand although represent low fall eight social call have own institution every individual behind fear walk threat sing collection for idea prove behind affect conference good interest customer effort budget recently factor can agreement produce beautiful draw reach class soon national difference feel product'"
      ]
     },
     "execution_count": 27,
     "metadata": {},
     "output_type": "execute_result"
    }
   ],
   "source": [
    "df['text'][9999]"
   ]
  },
  {
   "cell_type": "code",
   "execution_count": 28,
   "id": "18564e42-2b98-4d4c-93f7-4778de21ed20",
   "metadata": {},
   "outputs": [],
   "source": [
    "lemmatizer = WordNetLemmatizer()\n",
    "stop_words = set(stopwords.words('english'))\n",
    "\n",
    "def preprocess_text(text):\n",
    "    text = text.lower() # Lowercase\n",
    "    text = re.sub(r'\\b[a-zA-Z]\\b', '', text) # Remove single letters\n",
    "    text = re.sub(r'\\s+', ' ', text).strip() # Remove extra whitespace\n",
    "    \n",
    "    # Tokenize\n",
    "    tokens = nltk.word_tokenize(text)\n",
    "    \n",
    "    # Remove stopwords and lemmatize\n",
    "    cleaned_tokens = [\n",
    "        lemmatizer.lemmatize(token)\n",
    "        for token in tokens\n",
    "        if token not in stop_words\n",
    "    ]\n",
    "    \n",
    "    # Rejoin tokens back --> string\n",
    "    cleaned_text = ' '.join(cleaned_tokens)\n",
    "    \n",
    "    return cleaned_text\n",
    "\n",
    "\n",
    "df['title'] = df['title'].apply(preprocess_text)\n",
    "df['text'] = df['text'].apply(preprocess_text)"
   ]
  },
  {
   "cell_type": "code",
   "execution_count": 29,
   "id": "4ebf4214-fc76-45e2-99a3-e082868fa19b",
   "metadata": {},
   "outputs": [
    {
     "data": {
      "text/html": [
       "<div>\n",
       "<style scoped>\n",
       "    .dataframe tbody tr th:only-of-type {\n",
       "        vertical-align: middle;\n",
       "    }\n",
       "\n",
       "    .dataframe tbody tr th {\n",
       "        vertical-align: top;\n",
       "    }\n",
       "\n",
       "    .dataframe thead th {\n",
       "        text-align: right;\n",
       "    }\n",
       "</style>\n",
       "<table border=\"1\" class=\"dataframe\">\n",
       "  <thead>\n",
       "    <tr style=\"text-align: right;\">\n",
       "      <th></th>\n",
       "      <th>title</th>\n",
       "      <th>text</th>\n",
       "      <th>source</th>\n",
       "      <th>category</th>\n",
       "      <th>label</th>\n",
       "    </tr>\n",
       "  </thead>\n",
       "  <tbody>\n",
       "    <tr>\n",
       "      <th>0</th>\n",
       "      <td>foreign democrat final .</td>\n",
       "      <td>tax development store agreement lawyer hear ou...</td>\n",
       "      <td>NY Times</td>\n",
       "      <td>Politics</td>\n",
       "      <td>real</td>\n",
       "    </tr>\n",
       "    <tr>\n",
       "      <th>1</th>\n",
       "      <td>offer resource great point .</td>\n",
       "      <td>probably guess western behind likely next inve...</td>\n",
       "      <td>Fox News</td>\n",
       "      <td>Politics</td>\n",
       "      <td>fake</td>\n",
       "    </tr>\n",
       "    <tr>\n",
       "      <th>2</th>\n",
       "      <td>church carry .</td>\n",
       "      <td>identify forward present success risk several ...</td>\n",
       "      <td>CNN</td>\n",
       "      <td>Business</td>\n",
       "      <td>fake</td>\n",
       "    </tr>\n",
       "    <tr>\n",
       "      <th>3</th>\n",
       "      <td>unit .</td>\n",
       "      <td>phone item yard republican safe police identif...</td>\n",
       "      <td>Reuters</td>\n",
       "      <td>Science</td>\n",
       "      <td>fake</td>\n",
       "    </tr>\n",
       "    <tr>\n",
       "      <th>4</th>\n",
       "      <td>billion believe employee summer .</td>\n",
       "      <td>wonder fact difficult course forget exactly pa...</td>\n",
       "      <td>CNN</td>\n",
       "      <td>Technology</td>\n",
       "      <td>fake</td>\n",
       "    </tr>\n",
       "  </tbody>\n",
       "</table>\n",
       "</div>"
      ],
      "text/plain": [
       "                               title  \\\n",
       "0           foreign democrat final .   \n",
       "1       offer resource great point .   \n",
       "2                     church carry .   \n",
       "3                             unit .   \n",
       "4  billion believe employee summer .   \n",
       "\n",
       "                                                text    source    category  \\\n",
       "0  tax development store agreement lawyer hear ou...  NY Times    Politics   \n",
       "1  probably guess western behind likely next inve...  Fox News    Politics   \n",
       "2  identify forward present success risk several ...       CNN    Business   \n",
       "3  phone item yard republican safe police identif...   Reuters     Science   \n",
       "4  wonder fact difficult course forget exactly pa...       CNN  Technology   \n",
       "\n",
       "  label  \n",
       "0  real  \n",
       "1  fake  \n",
       "2  fake  \n",
       "3  fake  \n",
       "4  fake  "
      ]
     },
     "execution_count": 29,
     "metadata": {},
     "output_type": "execute_result"
    }
   ],
   "source": [
    "df.head()"
   ]
  },
  {
   "cell_type": "code",
   "execution_count": 30,
   "id": "212bc1d7-3ff7-4d73-869c-d40e8f7e4a8c",
   "metadata": {},
   "outputs": [],
   "source": [
    "df['combined_text'] = df['title'] + \" \" + df['text']\n",
    "vectorizer = TfidfVectorizer(max_features=5000)\n",
    "X_tfidf = vectorizer.fit_transform(df['combined_text'])\n",
    "\n",
    "le_category = LabelEncoder()\n",
    "le_source = LabelEncoder()\n",
    "le_label = LabelEncoder()\n",
    "\n",
    "df['category_encoded'] = le_category.fit_transform(df['category'])\n",
    "df['source_encoded'] = le_source.fit_transform(df['source'])\n",
    "df['label_encoded'] = le_label.fit_transform(df['label'])"
   ]
  },
  {
   "cell_type": "code",
   "execution_count": 31,
   "id": "82cc2102-cc9a-452c-bc37-203ef66dec1d",
   "metadata": {},
   "outputs": [
    {
     "name": "stdout",
     "output_type": "stream",
     "text": [
      "0: Business\n",
      "1: Entertainment\n",
      "2: Health\n",
      "3: Politics\n",
      "4: Science\n",
      "5: Sports\n",
      "6: Technology\n"
     ]
    }
   ],
   "source": [
    "for i, class_name in enumerate(le_category.classes_):\n",
    "    print(f\"{i}: {class_name}\")"
   ]
  },
  {
   "cell_type": "code",
   "execution_count": 32,
   "id": "b5a58fcf-8af7-49ab-9029-fda4a5254267",
   "metadata": {},
   "outputs": [
    {
     "name": "stdout",
     "output_type": "stream",
     "text": [
      "0: BBC\n",
      "1: CNN\n",
      "2: Daily News\n",
      "3: Fox News\n",
      "4: Global Times\n",
      "5: NY Times\n",
      "6: Reuters\n",
      "7: The Guardian\n",
      "8: nan\n"
     ]
    }
   ],
   "source": [
    "for i, class_name in enumerate(le_source.classes_):\n",
    "    print(f\"{i}: {class_name}\")"
   ]
  },
  {
   "cell_type": "code",
   "execution_count": 33,
   "id": "8144e058-6ed4-4a11-9cf6-1944d4e0d7ae",
   "metadata": {},
   "outputs": [
    {
     "name": "stdout",
     "output_type": "stream",
     "text": [
      "0: fake\n",
      "1: real\n"
     ]
    }
   ],
   "source": [
    "for i, class_name in enumerate(le_label.classes_):\n",
    "    print(f\"{i}: {class_name}\")"
   ]
  },
  {
   "cell_type": "code",
   "execution_count": 34,
   "id": "e5c1c4cc-6ea3-4656-bc67-802b451728ec",
   "metadata": {},
   "outputs": [],
   "source": [
    "X_cat = df[['category_encoded', 'source_encoded']].values\n",
    "X_combined = hstack([X_tfidf, X_cat])\n",
    "\n",
    "y = df['label_encoded']"
   ]
  },
  {
   "cell_type": "code",
   "execution_count": 35,
   "id": "71f38866-17a3-4c24-be7f-585659f8bbf2",
   "metadata": {},
   "outputs": [],
   "source": [
    "X_train,X_test,y_train,y_test = train_test_split(X_combined,y,test_size=0.2,random_state=42)"
   ]
  },
  {
   "cell_type": "markdown",
   "id": "618322f4-7515-46b6-8900-ddfd0ac3e6c2",
   "metadata": {},
   "source": [
    "<h2>Machine Learning</h2>"
   ]
  },
  {
   "cell_type": "code",
   "execution_count": 37,
   "id": "a92f88b2-7213-4490-aa91-d92e7e233eb4",
   "metadata": {},
   "outputs": [
    {
     "data": {
      "text/plain": [
       "0.5871875"
      ]
     },
     "execution_count": 37,
     "metadata": {},
     "output_type": "execute_result"
    }
   ],
   "source": [
    "model = MultinomialNB(fit_prior=False)\n",
    "model.fit(X_train, y_train)\n",
    "model.score(X_train, y_train)"
   ]
  },
  {
   "cell_type": "code",
   "execution_count": 38,
   "id": "eeb990d6-8fbe-46f7-84bb-5dad4ea4a88b",
   "metadata": {},
   "outputs": [
    {
     "name": "stdout",
     "output_type": "stream",
     "text": [
      "Test Accuracy: 0.5195\n",
      "              precision    recall  f1-score   support\n",
      "\n",
      "        fake       0.53      0.52      0.52      2029\n",
      "        real       0.51      0.52      0.52      1971\n",
      "\n",
      "    accuracy                           0.52      4000\n",
      "   macro avg       0.52      0.52      0.52      4000\n",
      "weighted avg       0.52      0.52      0.52      4000\n",
      "\n"
     ]
    }
   ],
   "source": [
    "# Make predictions\n",
    "y_pred = model.predict(X_test)\n",
    "print(\"Test Accuracy:\", accuracy_score(y_test, y_pred))    \n",
    "print(classification_report(y_test, y_pred, target_names=le_label.classes_))"
   ]
  },
  {
   "cell_type": "code",
   "execution_count": 39,
   "id": "9ca8fdaa-bdd8-46cf-be75-07a644f3ca02",
   "metadata": {},
   "outputs": [
    {
     "name": "stdout",
     "output_type": "stream",
     "text": [
      "Predicted label: real\n"
     ]
    }
   ],
   "source": [
    "text = 'AI in Education: A former English teacher went viral after revealing how students misuse AI tools like ChatGPT to complete assignments instead of learning critical thinking skills.'\n",
    "category = 6\n",
    "source = 0\n",
    "cat = np.array([[category, source]])\n",
    "cleaned_text = preprocess_text(text)\n",
    "vectorized = vectorizer.transform([cleaned_text])\n",
    "combined = hstack([vectorized, cat])\n",
    "pred = model.predict(combined)\n",
    "ori_label = le_label.inverse_transform(pred)\n",
    "print(\"Predicted label:\", ori_label[0])"
   ]
  },
  {
   "cell_type": "markdown",
   "id": "db348f05-4f3d-4dd8-8d98-89d5849dae3d",
   "metadata": {},
   "source": [
    "<h2>Deep Learning</h2>"
   ]
  },
  {
   "cell_type": "code",
   "execution_count": 41,
   "id": "f7eb1f5a-f92a-44d8-b8c9-1b9885e34dcb",
   "metadata": {},
   "outputs": [],
   "source": [
    "X = df['combined_text']\n",
    "y = df['label_encoded'].values\n",
    "\n",
    "x_train,x_test,y_train,y_test = train_test_split(X,y,test_size=0.2,random_state=42)"
   ]
  },
  {
   "cell_type": "code",
   "execution_count": 42,
   "id": "3db60a03-d02a-47ca-8c02-fd79436eac52",
   "metadata": {},
   "outputs": [],
   "source": [
    "tokenizer = Tokenizer(num_words=5000, oov_token='<OOV>')\n",
    "tokenizer.fit_on_texts(x_train)\n",
    "\n",
    "x_train_seq = tokenizer.texts_to_sequences(x_train)\n",
    "x_test_seq = tokenizer.texts_to_sequences(x_test)\n",
    "\n",
    "max_len = 300\n",
    "x_train_pad = pad_sequences(x_train_seq, maxlen=max_len)\n",
    "x_test_pad = pad_sequences(x_test_seq, maxlen=max_len)"
   ]
  },
  {
   "cell_type": "code",
   "execution_count": 43,
   "id": "51061ef8-bd29-47ee-ada7-10bb9f682d10",
   "metadata": {},
   "outputs": [
    {
     "name": "stdout",
     "output_type": "stream",
     "text": [
      "Epoch 1/10\n",
      "\u001b[1m500/500\u001b[0m \u001b[32m━━━━━━━━━━━━━━━━━━━━\u001b[0m\u001b[37m\u001b[0m \u001b[1m133s\u001b[0m 255ms/step - accuracy: 0.4984 - loss: 0.6943 - val_accuracy: 0.4920 - val_loss: 0.6934\n",
      "Epoch 2/10\n",
      "\u001b[1m500/500\u001b[0m \u001b[32m━━━━━━━━━━━━━━━━━━━━\u001b[0m\u001b[37m\u001b[0m \u001b[1m140s\u001b[0m 280ms/step - accuracy: 0.5448 - loss: 0.6883 - val_accuracy: 0.4970 - val_loss: 0.6956\n",
      "Epoch 3/10\n",
      "\u001b[1m500/500\u001b[0m \u001b[32m━━━━━━━━━━━━━━━━━━━━\u001b[0m\u001b[37m\u001b[0m \u001b[1m139s\u001b[0m 277ms/step - accuracy: 0.5912 - loss: 0.6721 - val_accuracy: 0.5023 - val_loss: 0.7085\n",
      "Epoch 4/10\n",
      "\u001b[1m500/500\u001b[0m \u001b[32m━━━━━━━━━━━━━━━━━━━━\u001b[0m\u001b[37m\u001b[0m \u001b[1m145s\u001b[0m 290ms/step - accuracy: 0.6205 - loss: 0.6522 - val_accuracy: 0.5090 - val_loss: 0.7228\n"
     ]
    }
   ],
   "source": [
    "DL_model = Sequential()\n",
    "DL_model.add(Embedding(input_dim=5000, output_dim=100))\n",
    "DL_model.add(Bidirectional(LSTM(128)))\n",
    "DL_model.add(Dropout(0.5))\n",
    "DL_model.add(Dense(1, activation='sigmoid'))\n",
    "\n",
    "DL_model.compile(loss='binary_crossentropy', optimizer='adam', metrics=['accuracy'])\n",
    "\n",
    "early_stopping = EarlyStopping(monitor='val_loss', patience=3)\n",
    "\n",
    "history = DL_model.fit(x_train_pad, y_train, epochs=10, batch_size=32, validation_data=(x_test_pad, y_test),callbacks=[early_stopping])"
   ]
  },
  {
   "cell_type": "code",
   "execution_count": 44,
   "id": "f54d30ea-910b-427c-ab7b-e87e845dc4b0",
   "metadata": {},
   "outputs": [
    {
     "data": {
      "image/png": "[encoded data removed]",
      "text/plain": [
       "<Figure size 1000x500 with 2 Axes>"
      ]
     },
     "metadata": {},
     "output_type": "display_data"
    }
   ],
   "source": [
    "# learning curve\n",
    "acc = history.history['accuracy']\n",
    "val_acc = history.history['val_accuracy']\n",
    "loss = history.history['loss']\n",
    "val_loss = history.history['val_loss']\n",
    "\n",
    "epochs = range(1, len(acc) + 1)\n",
    "# creating subplots\n",
    "fig, axes = plt.subplots(1, 2, figsize=(10, 5))\n",
    "axes[0].plot(epochs, acc, 'b', label='Train Accuracy')\n",
    "axes[0].plot(epochs, val_acc, 'r', label='Test Accuracy')\n",
    "axes[0].set_xlabel('Epoch')\n",
    "axes[0].set_ylabel('Accuracy')\n",
    "axes[0].legend()\n",
    "\n",
    "axes[1].plot(epochs, loss, 'b', label='Train Loss')\n",
    "axes[1].plot(epochs, val_loss, 'r', label='Test Loss')\n",
    "axes[1].set_xlabel('Epoch')\n",
    "axes[1].set_ylabel('Loss')\n",
    "axes[1].legend()\n",
    "# adusting layout for better spacing\n",
    "plt.tight_layout()\n",
    "# display the figure\n",
    "plt.show();"
   ]
  },
  {
   "cell_type": "code",
   "execution_count": 85,
   "id": "1d8ab3f0-bdfe-43d3-8773-0a283a34c33e",
   "metadata": {},
   "outputs": [
    {
     "name": "stdout",
     "output_type": "stream",
     "text": [
      "\u001b[1m125/125\u001b[0m \u001b[32m━━━━━━━━━━━━━━━━━━━━\u001b[0m\u001b[37m\u001b[0m \u001b[1m9s\u001b[0m 66ms/step\n",
      "Test Accuracy: 0.509\n",
      "              precision    recall  f1-score   support\n",
      "\n",
      "        fake       0.52      0.44      0.48      2029\n",
      "        real       0.50      0.58      0.54      1971\n",
      "\n",
      "    accuracy                           0.51      4000\n",
      "   macro avg       0.51      0.51      0.51      4000\n",
      "weighted avg       0.51      0.51      0.51      4000\n",
      "\n"
     ]
    }
   ],
   "source": [
    "pred = DL_model.predict(x_test_pad)\n",
    "y_pred = (pred>0.5).astype(int)\n",
    "\n",
    "print(\"Test Accuracy:\", accuracy_score(y_test, y_pred))    \n",
    "print(classification_report(y_test, y_pred, target_names=le_label.classes_))"
   ]
  },
  {
   "cell_type": "code",
   "execution_count": 89,
   "id": "7756a551-d3f1-429b-b7b9-685d74fe9210",
   "metadata": {},
   "outputs": [
    {
     "name": "stdout",
     "output_type": "stream",
     "text": [
      "\u001b[1m1/1\u001b[0m \u001b[32m━━━━━━━━━━━━━━━━━━━━\u001b[0m\u001b[37m\u001b[0m \u001b[1m0s\u001b[0m 45ms/step\n",
      "Predicted label: real\n"
     ]
    }
   ],
   "source": [
    "text = 'AI in Education: A former English teacher went viral after revealing how students misuse AI tools like ChatGPT to complete assignments instead of learning critical thinking skills.'\n",
    "cleaned_text = preprocess_text(text)\n",
    "\n",
    "def DL_predict_news(text):\n",
    "    seq = tokenizer.texts_to_sequences([text])\n",
    "    pad = pad_sequences(seq,maxlen=300)\n",
    "    pred = DL_model.predict(pad)\n",
    "    pred_class = (pred>0.5).astype(int).flatten()\n",
    "    return le_label.inverse_transform([pred_class])[0]\n",
    "    \n",
    "print(\"Predicted label:\", DL_predict_news(cleaned_text))"
   ]
  }
 ],
 "metadata": {
  "kernelspec": {
   "display_name": "Python 3 (ipykernel)",
   "language": "python",
   "name": "python3"
  },
  "language_info": {
   "codemirror_mode": {
    "name": "ipython",
    "version": 3
   },
   "file_extension": ".py",
   "mimetype": "text/x-python",
   "name": "python",
   "nbconvert_exporter": "python",
   "pygments_lexer": "ipython3",
   "version": "3.11.7"
  }
 },
 "nbformat": 4,
 "nbformat_minor": 5
}
